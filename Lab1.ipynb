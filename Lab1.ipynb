{
  "nbformat": 4,
  "nbformat_minor": 0,
  "metadata": {
    "colab": {
      "name": "Lab1.ipynb",
      "provenance": [],
      "collapsed_sections": [],
      "include_colab_link": true
    },
    "kernelspec": {
      "name": "python3",
      "display_name": "Python 3"
    }
  },
  "cells": [
    {
      "cell_type": "markdown",
      "metadata": {
        "id": "view-in-github",
        "colab_type": "text"
      },
      "source": [
        "<a href=\"https://colab.research.google.com/github/fv20465/CE869/blob/main/Lab1.ipynb\" target=\"_parent\"><img src=\"https://colab.research.google.com/assets/colab-badge.svg\" alt=\"Open In Colab\"/></a>"
      ]
    },
    {
      "cell_type": "markdown",
      "metadata": {
        "id": "mN4bfPEAqF0a"
      },
      "source": [
        "### Questions 1. Write a function name 'avg', which take an array of number and calculate the average"
      ]
    },
    {
      "cell_type": "markdown",
      "metadata": {
        "id": "BCb19bSKkqqR"
      },
      "source": [
        ""
      ]
    },
    {
      "cell_type": "code",
      "metadata": {
        "id": "m4HQwB9jlsYF"
      },
      "source": [
        "import numpy as np"
      ],
      "execution_count": null,
      "outputs": []
    },
    {
      "cell_type": "code",
      "metadata": {
        "id": "1pVc_MPWk_6Y"
      },
      "source": [
        "def avg(marks):\r\n",
        "    marks = sum(marks)/len(marks)\r\n",
        "    return marks\r\n",
        "    \r\n",
        "mark2 = [55,88,78,90,79]"
      ],
      "execution_count": null,
      "outputs": []
    },
    {
      "cell_type": "code",
      "metadata": {
        "id": "Oej6vcwclL_4"
      },
      "source": [
        "# Only run this cell to check your answer. If it is true then no error will be raised\r\n",
        "assert(avg(mark2) == np.mean(mark2))"
      ],
      "execution_count": null,
      "outputs": []
    },
    {
      "cell_type": "code",
      "metadata": {
        "id": "w0EK2em-lppS"
      },
      "source": [
        "#Questions 2. Write a function name 'areaCricle', which take radius as a argument and calculate the area."
      ],
      "execution_count": null,
      "outputs": []
    },
    {
      "cell_type": "code",
      "metadata": {
        "colab": {
          "base_uri": "https://localhost:8080/"
        },
        "id": "8StYAR62l1S-",
        "outputId": "80698ef1-e08c-41fb-88ad-9ebec516c33a"
      },
      "source": [
        "\r\n",
        "from math import pi # Use pi value from math package\r\n",
        "def areaCricle(radius):\r\n",
        "    # YOUR CODE HERE\r\n",
        "    Area_circle = pi*(radius**2)\r\n",
        "    return Area_circle\r\n",
        "\r\n",
        "areaCricle(10)"
      ],
      "execution_count": null,
      "outputs": [
        {
          "output_type": "execute_result",
          "data": {
            "text/plain": [
              "314.1592653589793"
            ]
          },
          "metadata": {
            "tags": []
          },
          "execution_count": 9
        }
      ]
    },
    {
      "cell_type": "code",
      "metadata": {
        "id": "Vn_5PcbGmOwb"
      },
      "source": [
        "# Only run this cell to check your answer. If it is true then no error will be raised\r\n",
        "assert(round(areaCricle(10),2) == 314.16)"
      ],
      "execution_count": null,
      "outputs": []
    },
    {
      "cell_type": "code",
      "metadata": {
        "id": "HDJ2yrwhmRGC"
      },
      "source": [
        "#Question 3. Write a function that takes a list of items and returns a new list with the order of items reversed, without using any inbuilt Python features that will do this for you (e.g. .reverse() or reversed(…)). As specified in the instructions, your function must not modify the contents of the original list."
      ],
      "execution_count": null,
      "outputs": []
    },
    {
      "cell_type": "code",
      "metadata": {
        "id": "Bya70swsmbFh"
      },
      "source": [
        "def reversed_list(in_list):\r\n",
        "    # YOUR CODE HERE\r\n",
        "    length = len(in_list)\r\n",
        "    s = length\r\n",
        "\r\n",
        "    new_list = [None]*length\r\n",
        "\r\n",
        "    for item in in_list:\r\n",
        "        s = s - 1\r\n",
        "        new_list[s] = item\r\n",
        "    return new_list\r\n",
        "    raise NotImplementedError()"
      ],
      "execution_count": null,
      "outputs": []
    },
    {
      "cell_type": "code",
      "metadata": {
        "id": "K7XNLGD2moSF"
      },
      "source": [
        "# Only run this cell to check your answer. If it is true then no error will be raised\r\n",
        "assert(reversed_list([1, 2]) == [2, 1])"
      ],
      "execution_count": null,
      "outputs": []
    },
    {
      "cell_type": "code",
      "metadata": {
        "id": "hQXfZeHCmdWk"
      },
      "source": [
        "#Read carefully: Write a function to perform a Bubble Sort on a list of numbers.\r\n",
        "\r\n",
        "#Bubble sort is a sorting algorithm and works by iterating over the list, comparing adjacent items, and swapping them if they are out of order.\r\n",
        "\r\n",
        "#Notice that after the first pass of a bubble sort, the biggest item is always moved to the end of the list. This means the next iteration does not need to check the final position of the list.\r\n",
        "\r\n",
        "#In addition, you can keep track of how many items were swapped on each iteration. If this count is zero on any iteration, then the list must be fully sorted, in which case the algorithm can stop early.\r\n",
        "\r\n",
        "#Hint: To understand Bubble Sort Algorithm, please Watch"
      ],
      "execution_count": null,
      "outputs": []
    },
    {
      "cell_type": "code",
      "metadata": {
        "id": "2e_pJYJanwAy"
      },
      "source": [
        "def bubble_sort(in_list):\r\n",
        "    # YOUR CODE HERE\r\n",
        "\r\n",
        "    for i in range(len(in_list)):\r\n",
        "        for j in range(len(in_list) - 1):\r\n",
        "            if in_list[j] > in_list[j+1]:\r\n",
        "                in_list[j], in_list[j+1] = in_list[j+1], in_list[j]\r\n",
        "\r\n",
        "    return in_list            \r\n",
        "\r\n",
        "    raise NotImplementedError()"
      ],
      "execution_count": null,
      "outputs": []
    },
    {
      "cell_type": "code",
      "metadata": {
        "id": "bYuPPsqqofMV"
      },
      "source": [
        "# Only run this cell to check your answer. If it is true then no error will be raised\r\n",
        "assert(bubble_sort([37, 42, 9, 19, 35, 4, 53, 22]) == [4, 9, 19, 22, 35, 37, 42, 53])\r\n",
        "assert(bubble_sort([5, 4, 3, 2, 1]) == [1, 2, 3, 4, 5])"
      ],
      "execution_count": null,
      "outputs": []
    },
    {
      "cell_type": "code",
      "metadata": {
        "id": "CT4VWPwgojMz"
      },
      "source": [
        "\r\n",
        "#Question 5.\r\n",
        "\r\n",
        "#Write a function to find $n^{th}$ Fibonacci number The Fibonacci numbers are the numbers in the following integer sequence.\r\n",
        "\r\n",
        "#1\t2\t3\t4\t5\t6\t7\t8\t9\t10\t11\t12\r\n",
        "#0\t1\t1\t2\t3\t5\t8\t13\t21\t34\t55\t89\r\n",
        "#Please consider index starting from 1\r\n",
        "\r\n",
        "#In mathematical terms, the sequence $F_n$ of Fibonacci numbers is defined by the recurrence relation\r\n",
        "\r\n",
        "#$F_n = F_n-1 + F_n-2$\r\n",
        "\r\n",
        "#with seed values\r\n",
        "\r\n",
        "#$F_0 = 0$ and $F_1 = 1$"
      ],
      "execution_count": null,
      "outputs": []
    },
    {
      "cell_type": "code",
      "metadata": {
        "colab": {
          "base_uri": "https://localhost:8080/"
        },
        "id": "qOIE9e0hpCoQ",
        "outputId": "ac3ee9d6-b9a1-427f-ca98-c6af4c72ea6e"
      },
      "source": [
        "def Fibonacci(n):\r\n",
        "\r\n",
        "    if n<=0: \r\n",
        "        print(\"Number should be greater than zero\")\r\n",
        "    elif n==1:\r\n",
        "        return 0\r\n",
        "    elif n==2:\r\n",
        "        return 1\r\n",
        "    else:\r\n",
        "        return Fibonacci(n-1)+Fibonacci(n-2)  \r\n",
        "\r\n",
        "    raise NotImplementedError()\r\n",
        "\r\n",
        "Fibonacci(1)"
      ],
      "execution_count": null,
      "outputs": [
        {
          "output_type": "execute_result",
          "data": {
            "text/plain": [
              "0"
            ]
          },
          "metadata": {
            "tags": []
          },
          "execution_count": 24
        }
      ]
    },
    {
      "cell_type": "code",
      "metadata": {
        "id": "uWfCXIWrpPH7"
      },
      "source": [
        "# Only run this cell to check your answer. If it is true then no error will be raised\r\n",
        "assert(Fibonacci(7) == 8)\r\n",
        "assert(Fibonacci(9) == 21)"
      ],
      "execution_count": null,
      "outputs": []
    },
    {
      "cell_type": "code",
      "metadata": {
        "id": "bEg9Etwzp524"
      },
      "source": [
        ""
      ],
      "execution_count": null,
      "outputs": []
    }
  ]
}