#dataset : https://github.com/Abuton/Modelling-Subscription-for-Bank-Deposits/blob/master/notebooks/AllCodeNotebook.ipynb

{
  "nbformat": 4,
  "nbformat_minor": 0,
  "metadata": {
    "colab": {
      "name": "bank_classification.ipynb",
      "provenance": [],
      "collapsed_sections": []
    },
    "kernelspec": {
      "name": "python3",
      "display_name": "Python 3"
    },
    "language_info": {
      "name": "python"
    }
  },
  "cells": [
    {
      "cell_type": "code",
      "metadata": {
        "id": "CbOGaFaW_LAE"
      },
      "source": [
        "# Ignore warnings\n",
        "import warnings\n",
        "warnings.filterwarnings('ignore')\n",
        "\n",
        "\n",
        "# Handle table-like data and matrices\n",
        "import numpy as np\n",
        "import pandas as pd\n",
        "\n",
        "\n",
        "# Modelling Algorithms\n",
        "from sklearn.tree import DecisionTreeClassifier\n",
        "from sklearn.svm import SVC\n",
        "from sklearn.ensemble import RandomForestClassifier, GradientBoostingClassifier\n",
        "from sklearn.neural_network import MLPClassifier\n",
        "from xgboost import XGBClassifier\n",
        "from sklearn.metrics import accuracy_score, confusion_matrix, classification_report\n",
        "\n",
        "\n",
        "# Modelling Helpers\n",
        "from sklearn import preprocessing\n",
        "from sklearn.preprocessing import StandardScaler\n",
        "from sklearn.model_selection import train_test_split\n",
        "from IPython.display import display\n",
        "\n",
        "# Visualisation\n",
        "import matplotlib as mpl\n",
        "import matplotlib.pyplot as plt\n",
        "import matplotlib.pylab as pylab\n",
        "import seaborn as sns\n",
        "\n",
        "\n",
        "# Configure visualisations\n",
        "%matplotlib inline\n",
        "mpl.style.use( 'fivethirtyeight' )\n",
        "sns.set_style( 'white' )\n",
        "pylab.rcParams[ 'figure.figsize' ] = 18 , 8\n",
        "\n",
        "pd.set_option('max_columns', None)\n",
        "pd.set_option('max_rows', None)"
      ],
      "execution_count": 11,
      "outputs": []
    },
    {
      "cell_type": "code",
      "metadata": {
        "colab": {
          "resources": {
            "http://localhost:8080/nbextensions/google.colab/files.js": {
              "data": "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",
              "ok": true,
              "headers": [
                [
                  "content-type",
                  "application/javascript"
                ]
              ],
              "status": 200,
              "status_text": ""
            }
          },
          "base_uri": "https://localhost:8080/",
          "height": 38
        },
        "id": "lbGCouOsD4g_",
        "outputId": "2dcccd92-0a05-441b-f105-b2ecabb0e878"
      },
      "source": [
        "from google.colab import files\n",
        "uploaded = files.upload()"
      ],
      "execution_count": 9,
      "outputs": [
        {
          "output_type": "display_data",
          "data": {
            "text/html": [
              "\n",
              "     <input type=\"file\" id=\"files-7ebafd35-1487-4c89-b75f-71ed38b48ec1\" name=\"files[]\" multiple disabled\n",
              "        style=\"border:none\" />\n",
              "     <output id=\"result-7ebafd35-1487-4c89-b75f-71ed38b48ec1\">\n",
              "      Upload widget is only available when the cell has been executed in the\n",
              "      current browser session. Please rerun this cell to enable.\n",
              "      </output>\n",
              "      <script src=\"/nbextensions/google.colab/files.js\"></script> "
            ],
            "text/plain": [
              "<IPython.core.display.HTML object>"
            ]
          },
          "metadata": {
            "tags": []
          }
        }
      ]
    },
    {
      "cell_type": "code",
      "metadata": {
        "colab": {
          "base_uri": "https://localhost:8080/",
          "height": 224
        },
        "id": "Zof0EonFE2yi",
        "outputId": "8e96328e-abe3-4d16-d95a-468ece64c51a"
      },
      "source": [
        "data = pd.read_csv('bank-additional-full.csv', sep=';')\n",
        "data.head()"
      ],
      "execution_count": 12,
      "outputs": [
        {
          "output_type": "execute_result",
          "data": {
            "text/html": [
              "<div>\n",
              "<style scoped>\n",
              "    .dataframe tbody tr th:only-of-type {\n",
              "        vertical-align: middle;\n",
              "    }\n",
              "\n",
              "    .dataframe tbody tr th {\n",
              "        vertical-align: top;\n",
              "    }\n",
              "\n",
              "    .dataframe thead th {\n",
              "        text-align: right;\n",
              "    }\n",
              "</style>\n",
              "<table border=\"1\" class=\"dataframe\">\n",
              "  <thead>\n",
              "    <tr style=\"text-align: right;\">\n",
              "      <th></th>\n",
              "      <th>age</th>\n",
              "      <th>job</th>\n",
              "      <th>marital</th>\n",
              "      <th>education</th>\n",
              "      <th>default</th>\n",
              "      <th>housing</th>\n",
              "      <th>loan</th>\n",
              "      <th>contact</th>\n",
              "      <th>month</th>\n",
              "      <th>day_of_week</th>\n",
              "      <th>duration</th>\n",
              "      <th>campaign</th>\n",
              "      <th>pdays</th>\n",
              "      <th>previous</th>\n",
              "      <th>poutcome</th>\n",
              "      <th>emp.var.rate</th>\n",
              "      <th>cons.price.idx</th>\n",
              "      <th>cons.conf.idx</th>\n",
              "      <th>euribor3m</th>\n",
              "      <th>nr.employed</th>\n",
              "      <th>y</th>\n",
              "    </tr>\n",
              "  </thead>\n",
              "  <tbody>\n",
              "    <tr>\n",
              "      <th>0</th>\n",
              "      <td>56</td>\n",
              "      <td>housemaid</td>\n",
              "      <td>married</td>\n",
              "      <td>basic.4y</td>\n",
              "      <td>no</td>\n",
              "      <td>no</td>\n",
              "      <td>no</td>\n",
              "      <td>telephone</td>\n",
              "      <td>may</td>\n",
              "      <td>mon</td>\n",
              "      <td>261</td>\n",
              "      <td>1</td>\n",
              "      <td>999</td>\n",
              "      <td>0</td>\n",
              "      <td>nonexistent</td>\n",
              "      <td>1.1</td>\n",
              "      <td>93.994</td>\n",
              "      <td>-36.4</td>\n",
              "      <td>4.857</td>\n",
              "      <td>5191.0</td>\n",
              "      <td>no</td>\n",
              "    </tr>\n",
              "    <tr>\n",
              "      <th>1</th>\n",
              "      <td>57</td>\n",
              "      <td>services</td>\n",
              "      <td>married</td>\n",
              "      <td>high.school</td>\n",
              "      <td>unknown</td>\n",
              "      <td>no</td>\n",
              "      <td>no</td>\n",
              "      <td>telephone</td>\n",
              "      <td>may</td>\n",
              "      <td>mon</td>\n",
              "      <td>149</td>\n",
              "      <td>1</td>\n",
              "      <td>999</td>\n",
              "      <td>0</td>\n",
              "      <td>nonexistent</td>\n",
              "      <td>1.1</td>\n",
              "      <td>93.994</td>\n",
              "      <td>-36.4</td>\n",
              "      <td>4.857</td>\n",
              "      <td>5191.0</td>\n",
              "      <td>no</td>\n",
              "    </tr>\n",
              "    <tr>\n",
              "      <th>2</th>\n",
              "      <td>37</td>\n",
              "      <td>services</td>\n",
              "      <td>married</td>\n",
              "      <td>high.school</td>\n",
              "      <td>no</td>\n",
              "      <td>yes</td>\n",
              "      <td>no</td>\n",
              "      <td>telephone</td>\n",
              "      <td>may</td>\n",
              "      <td>mon</td>\n",
              "      <td>226</td>\n",
              "      <td>1</td>\n",
              "      <td>999</td>\n",
              "      <td>0</td>\n",
              "      <td>nonexistent</td>\n",
              "      <td>1.1</td>\n",
              "      <td>93.994</td>\n",
              "      <td>-36.4</td>\n",
              "      <td>4.857</td>\n",
              "      <td>5191.0</td>\n",
              "      <td>no</td>\n",
              "    </tr>\n",
              "    <tr>\n",
              "      <th>3</th>\n",
              "      <td>40</td>\n",
              "      <td>admin.</td>\n",
              "      <td>married</td>\n",
              "      <td>basic.6y</td>\n",
              "      <td>no</td>\n",
              "      <td>no</td>\n",
              "      <td>no</td>\n",
              "      <td>telephone</td>\n",
              "      <td>may</td>\n",
              "      <td>mon</td>\n",
              "      <td>151</td>\n",
              "      <td>1</td>\n",
              "      <td>999</td>\n",
              "      <td>0</td>\n",
              "      <td>nonexistent</td>\n",
              "      <td>1.1</td>\n",
              "      <td>93.994</td>\n",
              "      <td>-36.4</td>\n",
              "      <td>4.857</td>\n",
              "      <td>5191.0</td>\n",
              "      <td>no</td>\n",
              "    </tr>\n",
              "    <tr>\n",
              "      <th>4</th>\n",
              "      <td>56</td>\n",
              "      <td>services</td>\n",
              "      <td>married</td>\n",
              "      <td>high.school</td>\n",
              "      <td>no</td>\n",
              "      <td>no</td>\n",
              "      <td>yes</td>\n",
              "      <td>telephone</td>\n",
              "      <td>may</td>\n",
              "      <td>mon</td>\n",
              "      <td>307</td>\n",
              "      <td>1</td>\n",
              "      <td>999</td>\n",
              "      <td>0</td>\n",
              "      <td>nonexistent</td>\n",
              "      <td>1.1</td>\n",
              "      <td>93.994</td>\n",
              "      <td>-36.4</td>\n",
              "      <td>4.857</td>\n",
              "      <td>5191.0</td>\n",
              "      <td>no</td>\n",
              "    </tr>\n",
              "  </tbody>\n",
              "</table>\n",
              "</div>"
            ],
            "text/plain": [
              "   age        job  marital    education  default housing loan    contact  \\\n",
              "0   56  housemaid  married     basic.4y       no      no   no  telephone   \n",
              "1   57   services  married  high.school  unknown      no   no  telephone   \n",
              "2   37   services  married  high.school       no     yes   no  telephone   \n",
              "3   40     admin.  married     basic.6y       no      no   no  telephone   \n",
              "4   56   services  married  high.school       no      no  yes  telephone   \n",
              "\n",
              "  month day_of_week  duration  campaign  pdays  previous     poutcome  \\\n",
              "0   may         mon       261         1    999         0  nonexistent   \n",
              "1   may         mon       149         1    999         0  nonexistent   \n",
              "2   may         mon       226         1    999         0  nonexistent   \n",
              "3   may         mon       151         1    999         0  nonexistent   \n",
              "4   may         mon       307         1    999         0  nonexistent   \n",
              "\n",
              "   emp.var.rate  cons.price.idx  cons.conf.idx  euribor3m  nr.employed   y  \n",
              "0           1.1          93.994          -36.4      4.857       5191.0  no  \n",
              "1           1.1          93.994          -36.4      4.857       5191.0  no  \n",
              "2           1.1          93.994          -36.4      4.857       5191.0  no  \n",
              "3           1.1          93.994          -36.4      4.857       5191.0  no  \n",
              "4           1.1          93.994          -36.4      4.857       5191.0  no  "
            ]
          },
          "metadata": {
            "tags": []
          },
          "execution_count": 12
        }
      ]
    },
    {
      "cell_type": "code",
      "metadata": {
        "id": "B6ZfAYDNE-fC"
      },
      "source": [
        "from sklearn.preprocessing import RobustScaler\n",
        "class myTransformer():\n",
        "    \"\"\"\n",
        "    A pipeline class that fit the feature transform and make them ready for training and prediction\n",
        "    Fix missing values using the function fix_missing()\n",
        "    Encode Categorical Datatype to an Integer\n",
        "    Extract Features from Date and generate more Features\n",
        "    Scale the data using RobustScaler()\n",
        "    \"\"\"\n",
        "    def __init__(self):\n",
        "        print('Initializing Binarizer......\\n')\n",
        "        # initialize all binarizer variables\n",
        "        print('Binarizer Ready for Use!!!!!\\n')\n",
        "        \n",
        "        # initialize the data scaler\n",
        "        self.dataScaler=RobustScaler()\n",
        "        print('Scaler is Ready!!')\n",
        "        \n",
        "     # the data will need alot of cleaning maybe not so much \n",
        "# let get started\n",
        "\n",
        "    # fix outlier\n",
        "    def fix_outlier(self, df, column):\n",
        "        \"\"\"\n",
        "        Fix Outlier will take 2 argument\n",
        "        df = dataframe\n",
        "        column = column that has an outlier value(s)\n",
        "        outlier will be replaced by median value of any column \n",
        "        return a series of fixed outier\n",
        "        \"\"\"\n",
        "        df[column] = np.where(df[column] > df[column].quantile(0.95),\n",
        "                                            df[column].median(),\n",
        "                                            df[column])\n",
        "        return df[column]\n",
        "      \n",
        "        \n",
        "    def encode_categorical_to_integer(self, data):\n",
        "        \"\"\"\n",
        "        convert or change object datatype into integers\n",
        "        for modelling\n",
        "        Function takes 1 arguments \n",
        "        data : dataframe that contains column(s) of type object\n",
        "        columns: a list of columns that are of type object\n",
        "        the funtion does not return object, it does it computation implicitly\n",
        "        \"\"\"\n",
        "        # get the list of columns that are object data types\n",
        "        categorical_columns = data.columns[data.dtypes == 'object'].tolist()\n",
        "        # if a categorical descriptive feature has only 2 levels,\n",
        "        # define only one binary variable\n",
        "        for col in categorical_columns:\n",
        "            n = len(data[col].unique())\n",
        "            if n == 2:\n",
        "                data[col] = pd.get_dummies(data[col], drop_first=True)\n",
        "\n",
        "        # for other categorical features (with n > 2 unique values), use regular \n",
        "        # one-hot-encoding\n",
        "        # if a feature is numeric, it will be untouched\n",
        "        data = pd.get_dummies(data)\n",
        "        return data\n",
        "\n",
        "    # Function to calculate missing values by column\n",
        "    def missing_values_table(self, df):\n",
        "        \"\"\"\n",
        "        calculate missing values in a dataframe df\n",
        "        returns: missing values table that comprise of count % of missing and their datatype\n",
        "        \"\"\"\n",
        "        # Total missing values\n",
        "        mis_val = df.isnull().sum()\n",
        "        \n",
        "        # Percentage of missing values\n",
        "        mis_val_percent = 100 * df.isnull().sum() / len(df)\n",
        "        \n",
        "        # Datatypes of missing values\n",
        "        mis_val_dtypes = df.dtypes\n",
        "        \n",
        "        # Make a table with the results\n",
        "        mis_val_table = pd.concat([mis_val, mis_val_percent, mis_val_dtypes], axis=1)\n",
        "        \n",
        "        # Rename the columns\n",
        "        mis_val_table_ren_columns = mis_val_table.rename(\n",
        "        columns = {0 : 'Missing Values', 1 : '% of Total Values', 2 : 'Data Types'})\n",
        "        \n",
        "        # Sort the table by percentage of missing descending\n",
        "        mis_val_table_ren_columns = mis_val_table_ren_columns[\n",
        "            mis_val_table_ren_columns.iloc[:,1] != 0].sort_values(\n",
        "        '% of Total Values', ascending=False).round(1)\n",
        "        \n",
        "        # Print some summary information\n",
        "        print (\"Your selected dataframe has \" + str(df.shape[1]) + \" columns.\\n\"      \n",
        "            \"There are \" + str(mis_val_table_ren_columns.shape[0]) +\n",
        "              \" columns that have missing values.\")\n",
        "        \n",
        "        # Return the dataframe with missing information\n",
        "        return mis_val_table_ren_columns, mis_val_table_ren_columns.index\n",
        "\n",
        "    def fix_missing(self, df, column):\n",
        "        \"\"\"\n",
        "        The Function Fix missing values in the data (df) passed\n",
        "        df = dataframe that contains the missing columns\n",
        "        column = columns that has missing values\n",
        "        \"\"\"\n",
        "        for col in column:\n",
        "            if df[col].dtype == 'float64' or df[col].dtype == 'int64':\n",
        "                df[col] = df[col].fillna(df[col].median())\n",
        "            else:\n",
        "                df[col] = df[col].fillna('No Data')\n",
        "        return df\n",
        "    \n",
        "    # Fit all the binarisers on the training data\n",
        "    def fit(self,input_data):\n",
        "        \"\"\" Check For Missing Values and fix it. A preliminary approach to handle \n",
        "            missing values.\n",
        "        \"\"\"\n",
        "         # Check Missing\n",
        "        print('Fixing Missing Values if any\\n for int/float column fill with median otherwise No Data')\n",
        "        _, missing_column = self.missing_values_table(input_data)\n",
        "        input_data = self.fix_missing(input_data, missing_column)\n",
        "\n",
        "    def encode_target(self, input_data, target):\n",
        "        # encode target \n",
        "        input_data[target] = input_data[target].replace({'no':0, 'yes':1})\n",
        "        return input_data[target]\n",
        "        \n",
        "\n",
        "    # Transform the input data using the fitted binarisers\n",
        "    def transform(self, full_dataset, train=False):\n",
        "        \"\"\"\n",
        "        Transformation on data is carried out when this function is called\n",
        "        Arguments -- \n",
        "        full_dataset: data to be transformed\n",
        "        target: dependent variable/feature or target variable\n",
        "        steps involve for transformation include \n",
        "        1. Copy the original data so all transformation is done on a duplicate data\n",
        "        2. specify target column and drop from the data\n",
        "        3. Add some features this part is the feature engineering part can be improved NB only 2 \n",
        "            features will be added\n",
        "        4. Map some similar features into one for proper encoding more on this later \n",
        "        5. convert object data types column to interger using the One Hot Encoding Techniques\n",
        "        6. Scale the Data using the robust scaler algorithm: this was choosing because it is less \n",
        "            susceptible to outlier even though outlier from the exploratory analysis is not present\n",
        "            in this data.\n",
        "        7. Apply Dimensionality Reduction using\n",
        "        8. Add the target column back to the data\n",
        "        9. Return the transformed dataframe\n",
        "        \"\"\"\n",
        "        \n",
        "        # making a copy of the input because we dont want to change the input in the main function\n",
        "        input_data=full_dataset.copy()\n",
        "            \n",
        "        ############################ New Features #################################\n",
        "        print('Generating Features..\\n')\n",
        "        # bin or split numeric feature age into 3 groups of young middle-aged and old since age is a good target separator\n",
        "        # this was gotten from the result of analysis\n",
        "        input_data['age_bin'] = pd.qcut(input_data['age'], q=3,\n",
        "                                        labels=['young', 'middle-aged', 'old'])\n",
        "                                        \n",
        "        # transform age on education and marital status\n",
        "        input_data['age_per_edu'] = input_data.groupby('education')['age'].transform('mean')\n",
        "        input_data['age_per_marital'] = input_data.groupby('marital')['age'].transform('mean')\n",
        "        input_data['age_per_job'] = input_data.groupby('job')['age'].transform('mean')\n",
        "        input_data['age_per_contact'] = input_data.groupby('contact')['age'].transform('mean')\n",
        "\n",
        "        # std\n",
        "        input_data['age_per_edu_std'] = input_data.groupby('education')['age'].transform('std')\n",
        "        input_data['age_per_marital_std'] = input_data.groupby('marital')['age'].transform('std')\n",
        "        input_data['age_per_job_std'] = input_data.groupby('job')['age'].transform('std')\n",
        "        input_data['age_per_contact_std'] = input_data.groupby('contact')['age'].transform('std')\n",
        "\n",
        "        \n",
        "        # transform age on education and marital status\n",
        "        # input_data['duration_per_edu'] = input_data.groupby('education')['duration'].transform('mean')\n",
        "        # input_data['duration_per_marital'] = input_data.groupby('marital')['duration'].transform('mean')\n",
        "\n",
        "        # getting the position of the mistalenly labeled 'pdays'\n",
        "        ind_999 = input_data.loc[(input_data['pdays'] == 999) & (input_data['poutcome'] != 'nonexistent')]['pdays'].index.values\n",
        "\n",
        "        # Assigning NaNs instead of 999\n",
        "        input_data.loc[ind_999, 'pdays'] = np.nan\n",
        "        # drop the nans \n",
        "        input_data = input_data.dropna()\n",
        "\n",
        "        # encode categorical object\n",
        "        input_data = self.encode_categorical_to_integer(input_data) \n",
        "        \n",
        "        print('Drop the Duration column')\n",
        "        input_data = input_data.drop('duration', axis=1)\n",
        "    \n",
        "        # scale dataframe\n",
        "        print('Scaling Data using Robust Scaler Method\\n')\n",
        "        input_data = pd.DataFrame(self.dataScaler.fit_transform(input_data),\n",
        "                                  columns=input_data.columns)\n",
        "        \n",
        "        \n",
        "        print(f'Shape of data is {input_data.shape}')\n",
        "        print('Done!!!! Pipeline process completed')\n",
        "        return input_data\n",
        "    \n",
        "    def fix_imbalance_data(self, data, target):\n",
        "        \"\"\"\n",
        "        This object is an implementation of SMOTE - Synthetic Minority\n",
        "        Over-sampling Technique as presented in.\n",
        "        SMOTE technique is selected to fix the imbalance data because it incoporate some algorithms\n",
        "        that has proven to be a good fit for this type of problem like SVC - Support Vector Classifier\n",
        "        & KNearestNeighbour to generate additional data in other to balance the data.\n",
        "        \n",
        "        Imbalance data occur in a classification problem: When one class is significantly more than\n",
        "        or greater than the other class like ratio 80 to 20 or 90 to 10.\n",
        "        NB: SMOTE works better when combined with undersampling of the majority class. So we first \n",
        "        oversample on a 1:10 ration, then undersample majority on a 1:2 ratio.\n",
        "        return splitted data feature_train, feature_test, target_train, target_test\n",
        "        \"\"\"\n",
        "        from imblearn.over_sampling import SMOTE\n",
        "        from imblearn.under_sampling import RandomUnderSampler\n",
        "        from sklearn.model_selection import train_test_split\n",
        "        from sklearn.pipeline import Pipeline\n",
        "        print('Fixing Imbalnced Data..')\n",
        "        # separate input features and target\n",
        "        X = data.drop(target, axis=1)\n",
        "        y = data[target]\n",
        "\n",
        "        # instantiate the SMOTE model and RandomUnderSampler Module\n",
        "        over = SMOTE(sampling_strategy='minority')\n",
        "        under = RandomUnderSampler(sampling_strategy='majority')\n",
        "        \n",
        "        # apply the smote model\n",
        "        X, y = over.fit_resample(X, y)\n",
        "        X, y = under.fit_resample(X, y)\n",
        "\n",
        "        # Split data into train and test stratify to make an even split\n",
        "        X_train, X_test, y_train, y_test = train_test_split(X, y, random_state=2001, \n",
        "                                                            test_size=.1, stratify = y)\n",
        "        \n",
        "        # output shape of train and test data\n",
        "        print(X_train.shape, X_test.shape, y_train.shape, y_test.shape)\n",
        "        return X_train, X_test, y_train, y_test\n",
        "    \n",
        "    # apply PCA\n",
        "    def apply_pca(self, X_train, X_test):\n",
        "        # import pca\n",
        "        from sklearn.decomposition import PCA\n",
        "        # make an instance of pca\n",
        "        pca = PCA(n_components=12)\n",
        "        print('Starting Dimensionality Reduction process using PCA')\n",
        "        # Fit PCA with our standardized data.\n",
        "        pca.fit(X_train)\n",
        "        # The attribute shows how much variance is explained by each of the seven individual components.\n",
        "        print('Explained Variance by Our PCA ::', pca.explained_variance_ratio_)\n",
        "        # apply the pca to both the train and test set\n",
        "        X_train = pca.transform(X_train)\n",
        "        X_test = pca.transform(X_test)\n",
        "        return X_train, X_test"
      ],
      "execution_count": 25,
      "outputs": []
    },
    {
      "cell_type": "code",
      "metadata": {
        "colab": {
          "base_uri": "https://localhost:8080/",
          "height": 542
        },
        "id": "RAVhgP6ZI51L",
        "outputId": "6ba9ffd0-0be0-4192-8a76-c1157e78fbc4"
      },
      "source": [
        "data['y'].value_counts().plot(kind='bar')"
      ],
      "execution_count": 24,
      "outputs": [
        {
          "output_type": "execute_result",
          "data": {
            "text/plain": [
              "<matplotlib.axes._subplots.AxesSubplot at 0x7f1df33ffb90>"
            ]
          },
          "metadata": {
            "tags": []
          },
          "execution_count": 24
        },
        {
          "output_type": "display_data",
          "data": {
            "image/png": "[encoded data removed]",
            "text/plain": [
              "<Figure size 1296x576 with 1 Axes>"
            ]
          },
          "metadata": {
            "tags": []
          }
        }
      ]
    },
    {
      "cell_type": "code",
      "metadata": {
        "colab": {
          "base_uri": "https://localhost:8080/"
        },
        "id": "9glUj1TQNtZb",
        "outputId": "ea434677-dccc-4009-84cb-f2b2337bd0b6"
      },
      "source": [
        "df1 = data.copy()\n",
        "pipe = myTransformer()\n",
        "pipe.fit(df1)\n",
        "data1 = pipe.transform(df1)\n",
        "fe_tr, fe_te,t_tr,t_te = pipe.fix_imbalance_data(data1, target='y')\n",
        "\n",
        "feature_train, feature_test = pipe.apply_pca(fe_tr, fe_te)\n",
        "feature_train.shape, feature_test.shape"
      ],
      "execution_count": 34,
      "outputs": [
        {
          "output_type": "stream",
          "text": [
            "Initializing Binarizer......\n",
            "\n",
            "Binarizer Ready for Use!!!!!\n",
            "\n",
            "Scaler is Ready!!\n",
            "Fixing Missing Values if any\n",
            " for int/float column fill with median otherwise No Data\n",
            "Your selected dataframe has 21 columns.\n",
            "There are 0 columns that have missing values.\n",
            "Generating Features..\n",
            "\n",
            "Drop the Duration column\n",
            "Scaling Data using Robust Scaler Method\n",
            "\n",
            "Shape of data is (37078, 73)\n",
            "Done!!!! Pipeline process completed\n",
            "Fixing Imbalnced Data..\n",
            "(59346, 72) (6594, 72) (59346,) (6594,)\n",
            "Starting Dimensionality Reduction process using PCA\n",
            "Explained Variance by Our PCA :: [9.99312681e-01 3.96642928e-04 1.46579715e-04 4.55820131e-05\n",
            " 1.50410287e-05 1.13288776e-05 9.61926889e-06 8.22986418e-06\n",
            " 6.55995410e-06 4.76107411e-06 4.11864576e-06 3.66267520e-06]\n"
          ],
          "name": "stdout"
        },
        {
          "output_type": "execute_result",
          "data": {
            "text/plain": [
              "((59346, 12), (6594, 12))"
            ]
          },
          "metadata": {
            "tags": []
          },
          "execution_count": 34
        }
      ]
    },
    {
      "cell_type": "code",
      "metadata": {
        "id": "ed0zuO4MJuIp"
      },
      "source": [
        "from sklearn.model_selection import KFold\n",
        "from xgboost import XGBClassifier\n",
        "from sklearn.neural_network import MLPClassifier\n",
        "from sklearn.linear_model import LogisticRegression\n",
        "from sklearn.metrics import f1_score\n",
        "import pickle\n",
        "        \n",
        "class Model:\n",
        "    \"\"\"\n",
        "    A class for Algorithms implementations and model building\n",
        "    \"\"\"\n",
        "    \n",
        "    def __init__(self):\n",
        "        print('Model Class Ready')\n",
        "    def run_random_forest(self, X_train, X_val, Y_train, Y_val):\n",
        "        from sklearn.ensemble import RandomForestClassifier\n",
        "        model_name = '28-04-2021-20-32-31-00-ran-reg.pkl'\n",
        "        kfold, scores = KFold(n_splits=5, shuffle=True, random_state=221), list()\n",
        "        pred_tot_cb = []\n",
        "        for train, test in kfold.split(X_train): \n",
        "            x_train, x_test = X_train[train], X_train[test]\n",
        "            y_train, y_test = Y_train[train], Y_train[test]\n",
        "\n",
        "            model = RandomForestClassifier(n_estimators=300)\n",
        "            model.fit(x_train, y_train)\n",
        "            preds = model.predict(x_test)\n",
        "            score = f1_score(y_test, preds)\n",
        "            scores.append(score)\n",
        "            test_pred = model.predict(X_val)\n",
        "            pred_tot_cb.append(test_pred)\n",
        "            print('f1-score: ',score)\n",
        "        print(\"Average: \", sum(scores)/len(scores))\n",
        "\n",
        "        # save model\n",
        "        pickle.dump(model, open(model_name, 'wb'))\n",
        "        print(f'Model Saved {model_name}')\n",
        "        return model, scores, test_pred\n",
        "\n"
      ],
      "execution_count": 36,
      "outputs": []
    },
    {
      "cell_type": "code",
      "metadata": {
        "colab": {
          "base_uri": "https://localhost:8080/"
        },
        "id": "pBOsPq-zKVxX",
        "outputId": "516b1f09-bd5d-460a-8109-da79c9088de6"
      },
      "source": [
        "algo = Model()"
      ],
      "execution_count": 37,
      "outputs": [
        {
          "output_type": "stream",
          "text": [
            "Model Class Ready\n"
          ],
          "name": "stdout"
        }
      ]
    },
    {
      "cell_type": "code",
      "metadata": {
        "colab": {
          "base_uri": "https://localhost:8080/"
        },
        "id": "OpupBzxCK08w",
        "outputId": "7d187e3c-5329-42fe-e2a3-58a101e3cdca"
      },
      "source": [
        "random_model, random_scores, random_prediction = algo.run_random_forest(feature_train, feature_test, t_tr, t_te)"
      ],
      "execution_count": 38,
      "outputs": [
        {
          "output_type": "stream",
          "text": [
            "f1-score:  0.8941985244802145\n",
            "f1-score:  0.8974423060901442\n",
            "f1-score:  0.8891307988611622\n",
            "f1-score:  0.8966970003370407\n",
            "f1-score:  0.8938444834210307\n",
            "Average:  0.8942626226379184\n",
            "Model Saved 26-08-2020-20-32-31-00-ran-reg.pkl\n"
          ],
          "name": "stdout"
        }
      ]
    },
    {
      "cell_type": "code",
      "metadata": {
        "id": "-hmOAVE9TYGV"
      },
      "source": [
        "class evaluate:\n",
        "    def __init__(self):\n",
        "        print('Model Class for Evaluation')\n",
        "        \n",
        "    def eval_model(self, target_test_data, prediction):\n",
        "        from sklearn.metrics import accuracy_score,confusion_matrix,recall_score, f1_score, precision_score\n",
        "        from sklearn.metrics import classification_report\n",
        "        confusion_matrix = confusion_matrix(target_test_data, prediction)\n",
        "        print('Accuracy Score: ', accuracy_score(target_test_data, prediction))\n",
        "        print('F1-Score: ', f1_score(target_test_data, prediction))\n",
        "        print('Recall: ', recall_score(target_test_data, prediction))\n",
        "        print('Precision: ', precision_score(target_test_data, prediction))\n",
        "        print(confusion_matrix)\n",
        "        print(classification_report(target_test_data, prediction))\n",
        "\n",
        "    def plot_auc_curve(self, model, model_name, test_data, target_test_data):\n",
        "        from sklearn.metrics import roc_auc_score\n",
        "        from sklearn.metrics import roc_curve\n",
        "        logit_roc_auc = roc_auc_score(target_test_data, model.predict(test_data))\n",
        "\n",
        "        fpr, tpr, thresholds = roc_curve(target_test_data, model.predict_proba(test_data)[:,1])\n",
        "        plt.figure()\n",
        "        plt.plot(fpr, tpr, label=f'{model_name} (area under curve = %0.2f)' % logit_roc_auc)\n",
        "        plt.plot([0, 1], [0, 1],'r--')\n",
        "        plt.xlim([0.0, 1.0])\n",
        "        plt.ylim([0.0, 1.05])\n",
        "        plt.xlabel('False Positive Rate')\n",
        "        plt.ylabel('True Positive Rate')\n",
        "        plt.title(f'Receiver operating characteristic ({model_name})')\n",
        "        plt.legend(loc=\"lower right\")\n",
        "        plt.savefig(f'{model_name}_ROC')\n",
        "        plt.show()"
      ],
      "execution_count": 39,
      "outputs": []
    },
    {
      "cell_type": "code",
      "metadata": {
        "colab": {
          "base_uri": "https://localhost:8080/",
          "height": 575
        },
        "id": "AGOB_JltTc2r",
        "outputId": "e89677ff-83a0-49ac-c054-db6cbd33df75"
      },
      "source": [
        "evaluate_model = evaluate()\n",
        "evaluate_model.plot_auc_curve(random_model, 'Random Forest', feature_test, t_te)"
      ],
      "execution_count": 41,
      "outputs": [
        {
          "output_type": "stream",
          "text": [
            "Model Class for Evaluation\n"
          ],
          "name": "stdout"
        },
        {
          "output_type": "display_data",
          "data": {
            "image/png": "[encoded data removed]",
            "text/plain": [
              "<Figure size 1296x576 with 1 Axes>"
            ]
          },
          "metadata": {
            "tags": []
          }
        }
      ]
    },
    {
      "cell_type": "code",
      "metadata": {
        "colab": {
          "base_uri": "https://localhost:8080/"
        },
        "id": "JZ7mmssTTx2j",
        "outputId": "1e9c7c3d-80f2-4630-b855-365c1deabd4d"
      },
      "source": [
        "evaluate_model.eval_model(t_te, random_prediction)"
      ],
      "execution_count": 42,
      "outputs": [
        {
          "output_type": "stream",
          "text": [
            "Accuracy Score:  0.8894449499545041\n",
            "F1-Score:  0.8894952251023193\n",
            "Recall:  0.8898999090081893\n",
            "Precision:  0.889090909090909\n",
            "[[2931  366]\n",
            " [ 363 2934]]\n",
            "              precision    recall  f1-score   support\n",
            "\n",
            "         0.0       0.89      0.89      0.89      3297\n",
            "         1.0       0.89      0.89      0.89      3297\n",
            "\n",
            "    accuracy                           0.89      6594\n",
            "   macro avg       0.89      0.89      0.89      6594\n",
            "weighted avg       0.89      0.89      0.89      6594\n",
            "\n"
          ],
          "name": "stdout"
        }
      ]
    },
    {
      "cell_type": "code",
      "metadata": {
        "colab": {
          "base_uri": "https://localhost:8080/"
        },
        "id": "TO0XiX7RT9Ny",
        "outputId": "8c379060-259a-4341-dc34-4ac3e0b5c631"
      },
      "source": [
        "data.y.value_counts()/data.y.count()"
      ],
      "execution_count": 43,
      "outputs": [
        {
          "output_type": "execute_result",
          "data": {
            "text/plain": [
              "no     0.887346\n",
              "yes    0.112654\n",
              "Name: y, dtype: float64"
            ]
          },
          "metadata": {
            "tags": []
          },
          "execution_count": 43
        }
      ]
    }
  ]
}